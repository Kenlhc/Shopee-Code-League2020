{
 "cells": [
  {
   "cell_type": "code",
   "execution_count": 2,
   "metadata": {},
   "outputs": [],
   "source": [
    "import pandas as pd\n",
    "import numpy as np\n",
    "import re\n",
    "import string\n",
    "import emoji"
   ]
  },
  {
   "cell_type": "code",
   "execution_count": 3,
   "metadata": {},
   "outputs": [],
   "source": [
    "en_df = pd.read_csv(\"train_en.csv\")\n",
    "tcn_df = pd.read_csv(\"train_tcn.csv\", encoding='utf-8')\n",
    "\n",
    "en_df = en_df.drop(['category'], axis=1)\n",
    "tcn_df = tcn_df.drop(['category'], axis=1) "
   ]
  },
  {
   "cell_type": "code",
   "execution_count": 4,
   "metadata": {},
   "outputs": [],
   "source": [
    "def remove_emoji(text, remove_components=False):\n",
    "    cleaned = emoji.get_emoji_regexp().sub(u'', text)\n",
    "    if remove_components:\n",
    "        cleaned = emoji_components.sub(u'', cleaned)\n",
    "    return cleaned"
   ]
  },
  {
   "cell_type": "code",
   "execution_count": 5,
   "metadata": {},
   "outputs": [],
   "source": [
    "en_list = en_df.values.tolist() \n",
    "tcn_list = tcn_df.values.tolist()\n",
    "\n",
    "en_size = len(en_list)"
   ]
  },
  {
   "cell_type": "code",
   "execution_count": 6,
   "metadata": {},
   "outputs": [],
   "source": [
    "for i in range(0, en_size):\n",
    "    en_list[i] = str(en_list[i])\n",
    "    en_list[i] = en_list[i].translate(str.maketrans('','', string.punctuation))\n",
    "    en_list[i] = remove_emoji(en_list[i])\n",
    "    en_list[i] = en_list[i].lower()"
   ]
  },
  {
   "cell_type": "code",
   "execution_count": 7,
   "metadata": {},
   "outputs": [],
   "source": [
    "tcn_size = len(tcn_list)\n",
    "\n",
    "for i in range(0, tcn_size):\n",
    "    tcn_list[i] = str(tcn_list[i])\n",
    "    tcn_list[i] = remove_emoji(tcn_list[i])"
   ]
  },
  {
   "cell_type": "code",
   "execution_count": 8,
   "metadata": {
    "scrolled": true
   },
   "outputs": [],
   "source": [
    "final_en_df = pd.DataFrame(en_list, columns=['product_title'])\n",
    "final_en_df.to_csv('cleaned_train_en.csv', index = False)\n",
    "final_tcn_df = pd.DataFrame(tcn_list, columns=['product_title'])\n",
    "final_tcn_df.to_csv('cleaned_train_tcn.csv', encoding='utf_8_sig', index = False)"
   ]
  },
  {
   "cell_type": "code",
   "execution_count": null,
   "metadata": {},
   "outputs": [],
   "source": []
  }
 ],
 "metadata": {
  "kernelspec": {
   "display_name": "Python 3",
   "language": "python",
   "name": "python3"
  },
  "language_info": {
   "codemirror_mode": {
    "name": "ipython",
    "version": 3
   },
   "file_extension": ".py",
   "mimetype": "text/x-python",
   "name": "python",
   "nbconvert_exporter": "python",
   "pygments_lexer": "ipython3",
   "version": "3.7.6"
  }
 },
 "nbformat": 4,
 "nbformat_minor": 4
}
